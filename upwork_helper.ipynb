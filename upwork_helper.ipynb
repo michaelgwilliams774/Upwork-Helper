{
 "cells": [
  {
   "cell_type": "code",
   "execution_count": null,
   "metadata": {},
   "outputs": [],
   "source": [
    "import importlib\n",
    "jobs_crawler = importlib.import_module(\"jobs_crawler\")\n",
    "importlib.reload(jobs_crawler)\n",
    "login = jobs_crawler.upwork_login()"
   ]
  }
 ],
 "metadata": {
  "language_info": {
   "name": "python"
  },
  "orig_nbformat": 4
 },
 "nbformat": 4,
 "nbformat_minor": 2
}
