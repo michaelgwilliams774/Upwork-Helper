{
 "cells": [
  {
   "cell_type": "code",
   "execution_count": null,
   "metadata": {},
   "outputs": [],
   "source": [
    "%%shell\n",
    "# Ubuntu no longer distributes chromium-browser outside of snap\n",
    "#\n",
    "# Proposed solution: https://askubuntu.com/questions/1204571/how-to-install-chromium-without-snap\n",
    "\n",
    "# Add debian buster\n",
    "cat > /etc/apt/sources.list.d/debian.list <<'EOF'\n",
    "deb [arch=amd64 signed-by=/usr/share/keyrings/debian-buster.gpg] http://deb.debian.org/debian buster main\n",
    "deb [arch=amd64 signed-by=/usr/share/keyrings/debian-buster-updates.gpg] http://deb.debian.org/debian buster-updates main\n",
    "deb [arch=amd64 signed-by=/usr/share/keyrings/debian-security-buster.gpg] http://deb.debian.org/debian-security buster/updates main\n",
    "EOF\n",
    "\n",
    "# Add keys\n",
    "apt-key adv --keyserver keyserver.ubuntu.com --recv-keys DCC9EFBF77E11517\n",
    "apt-key adv --keyserver keyserver.ubuntu.com --recv-keys 648ACFD622F3D138\n",
    "apt-key adv --keyserver keyserver.ubuntu.com --recv-keys 112695A0E562B32A\n",
    "\n",
    "apt-key export 77E11517 | gpg --dearmour -o /usr/share/keyrings/debian-buster.gpg\n",
    "apt-key export 22F3D138 | gpg --dearmour -o /usr/share/keyrings/debian-buster-updates.gpg\n",
    "apt-key export E562B32A | gpg --dearmour -o /usr/share/keyrings/debian-security-buster.gpg\n",
    "\n",
    "# Prefer debian repo for chromium* packages only\n",
    "# Note the double-blank lines between entries\n",
    "cat > /etc/apt/preferences.d/chromium.pref << 'EOF'\n",
    "Package: *\n",
    "Pin: release a=eoan\n",
    "Pin-Priority: 500\n",
    "\n",
    "\n",
    "Package: *\n",
    "Pin: origin \"deb.debian.org\"\n",
    "Pin-Priority: 300\n",
    "\n",
    "\n",
    "Package: chromium*\n",
    "Pin: origin \"deb.debian.org\"\n",
    "Pin-Priority: 700\n",
    "EOF"
   ]
  },
  {
   "cell_type": "code",
   "execution_count": null,
   "metadata": {},
   "outputs": [],
   "source": [
    "!pip install --upgrade pip\n",
    "!pip install -U selenium\n",
    "!pip install -U webdriver-manager"
   ]
  },
  {
   "cell_type": "code",
   "execution_count": null,
   "metadata": {},
   "outputs": [],
   "source": [
    "import importlib\n",
    "jobs_crawler = importlib.import_module(\"jobs_crawler\")\n",
    "importlib.reload(jobs_crawler)\n",
    "login = jobs_crawler.upwork_login()"
   ]
  }
 ],
 "metadata": {
  "language_info": {
   "name": "python"
  },
  "orig_nbformat": 4
 },
 "nbformat": 4,
 "nbformat_minor": 2
}
