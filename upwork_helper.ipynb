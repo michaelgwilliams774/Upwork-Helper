{
 "cells": [
  {
   "cell_type": "code",
   "execution_count": null,
   "metadata": {},
   "outputs": [],
   "source": [
    "from time import sleep\n",
    "from selenium import webdriver\n",
    "from selenium.webdriver.chrome.service import Service as ChromeService\n",
    "from webdriver_manager.chrome import ChromeDriverManager"
   ]
  },
  {
   "cell_type": "code",
   "execution_count": null,
   "metadata": {},
   "outputs": [],
   "source": [
    "import logging\n",
    "from webdriver_manager.core.logger import set_logger\n",
    "\n",
    "logger = logging.getLogger(\"upwork_helper_logger\")\n",
    "logger.setLevel(logging.DEBUG)\n",
    "logger.addHandler(logging.StreamHandler())\n",
    "logger.addHandler(logging.FileHandler(\"upwork_helper.log\"))\n",
    "\n",
    "set_logger(logger)"
   ]
  },
  {
   "cell_type": "code",
   "execution_count": null,
   "metadata": {},
   "outputs": [],
   "source": [
    "from selenium.webdriver.chrome.options import Options\n",
    "# from selenium.webdriver.firefox.options import Options\n",
    "\n",
    "options = Options()\n",
    "options.add_argument(\"--no-sandbox\")\n",
    "options.add_argument(\"--disable-dev-shm-usage\")\n",
    "options.add_argument(\"--headless\") # This won't show the window\n",
    "options.binary_location = \"/usr/bin/google-chrome-stable\"\n",
    "# options.binary_location = \"/snap/bin/firefox\"\n",
    "# This line defines your Chromium exe file location.\n",
    "\n",
    "driver = webdriver.Chrome(options=options)\n",
    "driver.get('https://www.google.com/')\n",
    "logger.info(driver.title)\n",
    "sleep(5)\n",
    "driver.close()"
   ]
  },
  {
   "cell_type": "code",
   "execution_count": null,
   "metadata": {},
   "outputs": [],
   "source": [
    "import importlib\n",
    "jobs_crawler = importlib.import_module(\"jobs_crawler\")\n",
    "importlib.reload(jobs_crawler)\n",
    "login = jobs_crawler.upwork_login()\n",
    "if (login):\n",
    "    scraping = jobs_crawler.jobs_crawler()\n",
    "if (scraping):\n",
    "    jobs_crawler.bid_project()"
   ]
  }
 ],
 "metadata": {
  "language_info": {
   "name": "python"
  },
  "orig_nbformat": 4
 },
 "nbformat": 4,
 "nbformat_minor": 2
}
